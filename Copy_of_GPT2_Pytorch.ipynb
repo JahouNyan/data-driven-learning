{
  "nbformat": 4,
  "nbformat_minor": 0,
  "metadata": {
    "colab": {
      "name": "Copy of GPT2-Pytorch.ipynb",
      "version": "0.3.2",
      "provenance": [],
      "collapsed_sections": [],
      "include_colab_link": true
    },
    "kernelspec": {
      "name": "python3",
      "display_name": "Python 3"
    },
    "accelerator": "GPU"
  },
  "cells": [
    {
      "cell_type": "markdown",
      "metadata": {
        "id": "view-in-github",
        "colab_type": "text"
      },
      "source": [
        "<a href=\"https://colab.research.google.com/github/JahouNyan/data-driven-learning/blob/master/Copy_of_GPT2_Pytorch.ipynb\" target=\"_parent\"><img src=\"https://colab.research.google.com/assets/colab-badge.svg\" alt=\"Open In Colab\"/></a>"
      ]
    },
    {
      "metadata": {
        "id": "4L7HpNaFHO5D",
        "colab_type": "code",
        "outputId": "bd5c67d7-90f0-466f-ab53-ce21d8145482",
        "colab": {
          "base_uri": "https://localhost:8080/",
          "height": 123
        }
      },
      "cell_type": "code",
      "source": [
        "!git clone https://github.com/graykode/gpt-2-Pytorch\n",
        "%cd gpt-2-Pytorch\n",
        "!curl --output gpt2-pytorch_model.bin https://s3.amazonaws.com/models.huggingface.co/bert/gpt2-pytorch_model.bin\n",
        "!pip install -r requirements.txt"
      ],
      "execution_count": 8,
      "outputs": [
        {
          "output_type": "stream",
          "text": [
            "fatal: destination path 'gpt-2-Pytorch' already exists and is not an empty directory.\n",
            "/content/gpt-2-Pytorch\n",
            "  % Total    % Received % Xferd  Average Speed   Time    Time     Time  Current\n",
            "                                 Dload  Upload   Total   Spent    Left  Speed\n",
            "100  522M  100  522M    0     0  26.9M      0  0:00:19  0:00:19 --:--:-- 21.3M\n",
            "Requirement already satisfied: regex==2017.4.5 in /usr/local/lib/python3.6/dist-packages (from -r requirements.txt (line 1)) (2017.4.5)\n"
          ],
          "name": "stdout"
        }
      ]
    },
    {
      "metadata": {
        "id": "he_YiEC9T6-D",
        "colab_type": "code",
        "outputId": "873dd14e-ba2f-4916-8c5b-67588cd8013e",
        "colab": {
          "base_uri": "https://localhost:8080/",
          "height": 445
        }
      },
      "cell_type": "code",
      "source": [
        "!python main.py --text \"Once when I was six years old I saw a magnificent picture in a book, called True Stories from Nature, about the primeval forest.\""
      ],
      "execution_count": 9,
      "outputs": [
        {
          "output_type": "stream",
          "text": [
            "Namespace(batch_size=-1, length=-1, nsamples=1, quiet=False, temperature=0.7, text='Once when I was six years old I saw a magnificent picture in a book, called True Stories from Nature, about the primeval forest.', top_k=40, unconditional=False)\n",
            "Once when I was six years old I saw a magnificent picture in a book, called True Stories from Nature, about the primeval forest.\n",
            "100% 512/512 [00:11<00:00, 46.28it/s]\n",
            "======================================== SAMPLE 1 ========================================\n",
            " I was fascinated by it. My parents were very interested in it, and I was raised in it. I always tried to find some way to describe it.\n",
            "\n",
            "I started reading about it in The New York Times. I started reading it, and I thought it was a really nice book. And it is. It is a fascinating book. I have been lucky enough to have had a lot of friends and acquaintances who know about it. I know there is a lot of truth in that.\n",
            "\n",
            "You say that your interest in the forest and its place in the psyche is a reaction to the natural world. It is a reaction to the natural world.\n",
            "\n",
            "Well, I always wanted to study the forest, and I knew that I was going to be an astronomer. I was going to be a scientist. I was going to be a biologist, and I was going to do some things that I thought would be interesting to me. So I read a lot of it, and I was interested in it. I read about it in the book, and I thought that it was really interesting. It is a great book. It is a great book. It is a good book. It is a good book. It is a good book. And I wanted to give it a try. And I thought, I am going to read this book and I don't want to be a historian. I don't want to be a biologist.\n",
            "\n",
            "But I was also interested in being a biologist, and I knew that I could do things that scientists can do, and I wanted to do things that were interesting to me. I knew that I could do things that people can do, and I thought that my interest in the forest was a reaction to that.\n",
            "\n",
            "So I read this book every day. It was a very interesting book. I don't know how many people read it every day.\n",
            "\n",
            "Well, I am now a biologist. I have a book. It is called True Stories from Nature, and I am not going to talk about it. It is not going to be in the library. I will talk about it the next day.\n",
            "\n",
            "One thing you should know about the book is that it is a short story.\n",
            "\n",
            "So the book is long. It is. There is a lot of detail in it. I think it should be a very long story. But I think it is not.\n",
            "\n",
            "One thing I should know about the book is that it is a short story. I did not\n"
          ],
          "name": "stdout"
        }
      ]
    },
    {
      "metadata": {
        "id": "qdWtJ2_ZwS4L",
        "colab_type": "code",
        "outputId": "1ba40490-d68a-451a-9bba-f1c9091dc65f",
        "colab": {
          "base_uri": "https://localhost:8080/",
          "height": 125
        }
      },
      "cell_type": "code",
      "source": [
        "!python main.py --text \"The stranger didn’t shatter Adam’s world all at once. That was what Adam Price would tell himself later, but that was a lie. Adam somehow knew right away, right from the very first sentence, that the life he had known as a content, suburban, married father of two was gone forever. It was a simple sentence on the face of it. But there was something in the tone, something knowing and even caring that let Adam know that nothing would ever be the same. “You didn’t have to stay with her,” the stranger said.”\" "
      ],
      "execution_count": 10,
      "outputs": [
        {
          "output_type": "stream",
          "text": [
            "Namespace(batch_size=-1, length=-1, nsamples=1, quiet=False, temperature=0.7, text='The stranger didn’t shatter Adam’s world all at once. That was what Adam Price would tell himself later, but that was a lie. Adam somehow knew right away, right from the very first sentence, that the life he had known as a content, suburban, married father of two was gone forever. It was a simple sentence on the face of it. But there was something in the tone, something knowing and even caring that let Adam know that nothing would ever be the same. “You didn’t have to stay with her,” the stranger said.”', top_k=40, unconditional=False)\n",
            "The stranger didn’t shatter Adam’s world all at once. That was what Adam Price would tell himself later, but that was a lie. Adam somehow knew right away, right from the very first sentence, that the life he had known as a content, suburban, married father of two was gone forever. It was a simple sentence on the face of it. But there was something in the tone, something knowing and even caring that let Adam know that nothing would ever be the same. “You didn’t have to stay with her,” the stranger said.”\n",
            "100% 512/512 [00:10<00:00, 46.71it/s]\n",
            "======================================== SAMPLE 1 ========================================\n",
            " \"I did. I am leaving,” the stranger said. ”\" Adam Price. \"I won't be back.\" He left the room. \"I'm sorry. I'm sorry,” the stranger said. ”\" I wasn't. I was just being honest.\" \"What was that?\" \"I don't remember,\" Adam Price said. \"I was just going to say it so that I could go home.\" He looked at his watch. \"I had to give it to you. I said I was going to do everything in my power to help you.\" \"I said I was going to give it to you. I said I was going to help you to get back to being the father you were.\" \"You don't remember anything?\" \"I don't remember,\" Adam Price said. \"I'm just going to remember.\" But it wasn't just about the things that happened to him, it was about the things that were going to happen to his family, his friends, his family. And it wasn't just about money. It was about all of it. He had to leave the house. He had to leave the town. He had to leave the community. He had to leave all of it. And that was the worst part of it: He had to leave. And that was the beginning of the end for Adam Price. He had to leave. But he had to go. And he had to go home. And he had to go home. And he had to go home. And he had to go home. And he had to go home. And he had to go home. And he had to go home. And he had to go home. And he had to go home. And he had to go home. And he had to go home. And he had to go home. And he had to go home. And he had to go home. And he had to go home. And he had to go home. And he had to go home. And he had to go home. And he had to go home. And he had to go home. And he had to go home. And he had to go home. And he had to go home. And he had to go home. And he had to go home. And he had to go home. And he had to go home. And he had to go home. And he had to go home. And he had to go home. And he had to go home. And he had to go home\n"
          ],
          "name": "stdout"
        }
      ]
    },
    {
      "metadata": {
        "id": "bDXo-AfNwqBq",
        "colab_type": "text"
      },
      "cell_type": "markdown",
      "source": [
        "This is an interesting interface.\n"
      ]
    },
    {
      "metadata": {
        "id": "ZTVExNYMw6gd",
        "colab_type": "code",
        "outputId": "1a361251-af12-4063-8965-b9d5947c7dc9",
        "colab": {
          "base_uri": "https://localhost:8080/",
          "height": 338
        }
      },
      "cell_type": "code",
      "source": [
        "!python main.py --text \"It is tough to understand the limits of this text generator. Is it a pretrained model? How does it handle inputs? Perhaps to clarify, I can explain. See GPT-2 is open AI 's brain-love-child.'\""
      ],
      "execution_count": 11,
      "outputs": [
        {
          "output_type": "stream",
          "text": [
            "Namespace(batch_size=-1, length=-1, nsamples=1, quiet=False, temperature=0.7, text=\"It is tough to understand the limits of this text generator. Is it a pretrained model? How does it handle inputs? Perhaps to clarify, I can explain. See GPT-2 is open AI 's brain-love-child.'\", top_k=40, unconditional=False)\n",
            "It is tough to understand the limits of this text generator. Is it a pretrained model? How does it handle inputs? Perhaps to clarify, I can explain. See GPT-2 is open AI 's brain-love-child.'\n",
            "100% 512/512 [00:10<00:00, 49.21it/s]\n",
            "======================================== SAMPLE 1 ========================================\n",
            " The idea is that the 'determinations' for how things are connected can be mapped to a computer's 'brain-love' (i.e. the human brain). The program that is programmed to do this is called a neural network.\n",
            "\n",
            "The first part of the example is that we talk about a computer's 'brain-love'. The second part is that we talk about a human brain. The fourth part is that we talk about a human brain. The fifth part is that we talk about a human brain. The sixth part is that we talk about a human brain. The seventh part is that we talk about a human brain. The eighth part is that we talk about a human brain. The ninth part is that we talk about a human brain. Note that the 'brain-love' is not just an AI. It is also a machine. AI is not just a machine, it is also a human-like machine.\n",
            "\n",
            "I am not going to go into the details of the model, but I will say that, when it comes to this, it is not very clear, and that is why I decided to make it a simple program. There are a couple of reasons why I decided to use this. The first is that I want to make it simple to understand. To do this, I have to understand some basic machine concepts. And that is exactly what I am trying to do in this paper.\n",
            "\n",
            "The second reason I decided to use the 'brain-love' is because I did not want to make a system that would take input signals and translate them to machine instructions. If you look at the examples provided above, these are some of the most common examples of a neural network.\n",
            "\n",
            "The third reason I decided to use it is because I did not want to make a system that would take input data and translate it to machine instructions. It is only in the past that you have had machines learn how to use input signals, and that is where the idea of a neural network comes from. In fact, when I first started this project, it was not until I started writing the program that it became clear that this was a good idea.\n",
            "\n",
            "The problem I had here is that the 'brain-love' is not an AI. In fact, it is not even a human-like machine. It is a very simple machine.\n",
            "\n",
            "The first thing to understand about the 'brain-love' is that it is a model. It is a model of a neural network.\n"
          ],
          "name": "stdout"
        }
      ]
    },
    {
      "metadata": {
        "id": "RypMj0NxyhPq",
        "colab_type": "code",
        "outputId": "c1bb88cd-3ec2-42d2-b808-f43ef1005a1c",
        "colab": {
          "base_uri": "https://localhost:8080/",
          "height": 2170
        }
      },
      "cell_type": "code",
      "source": [
        "!python main.py --nsamples 3 --text \"The stranger didn’t shatter Adam’s world all at once. That was what Adam Price would tell himself later, but that was a lie. Adam somehow knew right away, right from the very first sentence, that the life he had known as a content, suburban, married father of two was gone forever. It was a simple sentence on the face of it. But there was something in the tone, something knowing and even caring that let Adam know that nothing would ever be the same.\""
      ],
      "execution_count": 15,
      "outputs": [
        {
          "output_type": "stream",
          "text": [
            "Namespace(batch_size=-1, length=-1, nsamples=3, quiet=False, temperature=0.7, text='The stranger didn’t shatter Adam’s world all at once. That was what Adam Price would tell himself later, but that was a lie. Adam somehow knew right away, right from the very first sentence, that the life he had known as a content, suburban, married father of two was gone forever. It was a simple sentence on the face of it. But there was something in the tone, something knowing and even caring that let Adam know that nothing would ever be the same.', top_k=40, unconditional=False)\n",
            "The stranger didn’t shatter Adam’s world all at once. That was what Adam Price would tell himself later, but that was a lie. Adam somehow knew right away, right from the very first sentence, that the life he had known as a content, suburban, married father of two was gone forever. It was a simple sentence on the face of it. But there was something in the tone, something knowing and even caring that let Adam know that nothing would ever be the same.\n",
            "100% 512/512 [00:10<00:00, 47.64it/s]\n",
            "======================================== SAMPLE 1 ========================================\n",
            "\n",
            "\n",
            "He kept his eyes closed, as though watching the world for the first time. He didn't want to see the world in the same way. He just didn't want to see how he would lose his mind, and he didn't even want to know.\n",
            "\n",
            "He kept his eyes closed, as though watching the world for the first time. He didn't want to see the world in the same way. He just didn't want to know.\n",
            "\n",
            "So he closed his eyes, as though he was going to get the answer.\n",
            "\n",
            "And finally, Adam knew that his life would take forever.\n",
            "\n",
            "He knew that his life would take forever.\n",
            "\n",
            "And finally, Adam knew that his life would take forever.\n",
            "\n",
            "His body would be broken, his mind will be broken, and his mind will be broken.\n",
            "\n",
            "And now, he was sitting in front of the computer, feeling his mind break again, and he was thinking, \"I can't see this now. It's too late. It's too late to do anything anymore. I don't know. It's too late.\"\n",
            "\n",
            "He was being told, \"You can't see it now. You can't see it. Please, just leave this place. You can't see this. You can't see this. Just leave here and go back to your country.\"\n",
            "\n",
            "But the moment he left the computer, Adam's eyes were locked on the blank wall. He was so confused by the blank wall, and he couldn't even see what was happening on the wall.\n",
            "\n",
            "He was so confused by the blank wall, and he couldn't even see what was happening on the wall.\n",
            "\n",
            "And then he remembered what had happened to Adam.\n",
            "\n",
            "He remembered what he had done to Adam.\n",
            "\n",
            "And now, he remembered what he knew all along.\n",
            "\n",
            "And now, he remembered what he knew all along.\n",
            "\n",
            "He was going out there to see something. To see something he could never be certain of.\n",
            "\n",
            "He stopped. He didn't want to go out there. And he didn't want to go out there to see something.\n",
            "\n",
            "He was going to see something, so that his mind could be in the position it is now.\n",
            "\n",
            "But when he got out of his office, he was sitting there a whole lot, thinking about the things he said, and the things he didn't say.\n",
            "\n",
            "He was going to see something he couldn't even see.\n",
            "\n",
            "100% 512/512 [00:10<00:00, 48.05it/s]\n",
            "======================================== SAMPLE 2 ========================================\n",
            "\n",
            "\n",
            "Adam didn't know what to do with his life right now, and what to do about it, and the sooner he learned the better he would feel. He didn't want to be in this world with his wife and children, or with his children. It wasn't even fair, it was like he was in the middle of an argument with his wife. He was just thinking, \"It's okay, I'm better than that.\"\n",
            "\n",
            "He didn't want to be in this world with his wife, or with his children.\n",
            "\n",
            "Adam didn't want to be in this world with his wife, or with his children.\n",
            "\n",
            "He didn't want to be in this world with his wife, or with his children.\n",
            "\n",
            "He didn't want to be in this world with his wife or with his children.\n",
            "\n",
            "He didn't want to be in this world with his wife, or with his children.\n",
            "\n",
            "He didn't want to be in this world with his wife, or with his children.\n",
            "\n",
            "He didn't want to be in this world with his wife, or with his children.\n",
            "\n",
            "He didn't want to be in this world with his wife, or with his children.\n",
            "\n",
            "He didn't want to be in this world with his wife, or with his children.\n",
            "\n",
            "He didn't want to be in this world with his wife, or with his children.\n",
            "\n",
            "He didn't want to be in this world with his wife, or with his children.\n",
            "\n",
            "He didn't want to be in this world with his wife, or with his children.\n",
            "\n",
            "He didn't want to be in this world with his wife, or with his children.\n",
            "\n",
            "He didn't want to be in this world with his wife, or with his children.\n",
            "\n",
            "He didn't want to be in this world with his wife, or with his children.\n",
            "\n",
            "He didn't want to be in this world with his wife, or with her children.\n",
            "\n",
            "He didn't want to be in this world with her children.\n",
            "\n",
            "He didn't want to be in this world with her children.\n",
            "\n",
            "He didn't want to be in this world with her children.\n",
            "\n",
            "He didn't want to be in this world with her children.\n",
            "\n",
            "He didn't want to be in this world with her children.\n",
            "\n",
            "He didn't want to be in this world with her children.\n",
            "\n",
            "He didn't want to be in this world with her\n",
            "100% 512/512 [00:10<00:00, 47.99it/s]\n",
            "======================================== SAMPLE 3 ========================================\n",
            " He knew it was his only chance.\n",
            "\n",
            "’\n",
            "\n",
            "He'd only met Noah when he was 18 years old. The day Noah was born, he'd spent seven months waiting for Noah to be born. Before that day, Noah had been sent to a small town in Texas, where the town of Tule Lake was located. Noah was born and raised there and had spent almost all his childhood and adolescence in a small, wooden shack by the lake, with no money and no food. He'd been forced to work as a child and spend at least three hours a day at the family home, while Noah was the only child and his parents had provided him with a family of four.\n",
            "\n",
            "\"We were very fortunate,\" Noah told a local newspaper, \"to have some good friends that lived here, but I have to say that our home was so small that I had to bring something with me. We never had a family for our whole lives. One day we had a little boy, and I was sitting on the couch and he was lying on the floor, looking down at the ground, and he just had this little face and this little smile on his face, and I said, 'Mom, I need it.'\"\n",
            "\n",
            "\"We were so lucky because he was our only child and it was really hard to do,\" Noah said. \"One day, he was just like, 'Mom, I need this,'\"\n",
            "\n",
            "’\n",
            "\n",
            "When Noah came home, Noah said, he'd been told a story about how he'd met his father, and Noah told his parents. He told his sisters and his cousins, and he told his aunt and uncle. He had heard about Noah's father, and about the life he'd known, and he knew it was true. He also knew that Noah had been raised by his parents because he'd been a single parent, and that he'd grown up with his mother, and that his father would never leave him.\n",
            "\n",
            "\"He knew that if he had to go back to his family, he would do so, and he would live with those people for six years,\" Noah said.\n",
            "\n",
            "’\n",
            "\n",
            "\"And then he was a child,\" Noah said. \"And he would stay with his parents forever. And he was so happy.\"\n",
            "\n",
            "The story of Noah's father was told in the beginning of The Godfather, but the story began to change the way he thought about family and how he would behave. Noah found new meaning in his new\n"
          ],
          "name": "stdout"
        }
      ]
    }
  ]
}